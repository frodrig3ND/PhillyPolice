{
 "cells": [
  {
   "cell_type": "code",
   "execution_count": 1,
   "metadata": {},
   "outputs": [],
   "source": [
    "import pandas as pd\n",
    "import seaborn as sns\n",
    "import matplotlib.pyplot as plt\n",
    "from matplotlib.cbook import boxplot_stats\n",
    "import numpy as np\n",
    "from matplotlib import cm\n",
    "import geopandas\n",
    "import contextily as ctx\n",
    "from mpl_toolkits.axes_grid1.inset_locator import inset_axes\n",
    "import requests\n",
    "from bs4 import BeautifulSoup\n",
    "from IPython.core.display import HTML"
   ]
  },
  {
   "cell_type": "code",
   "execution_count": 2,
   "metadata": {},
   "outputs": [],
   "source": [
    "sns.set()"
   ]
  },
  {
   "cell_type": "code",
   "execution_count": 3,
   "metadata": {},
   "outputs": [],
   "source": [
    "complaints=pd.read_csv('ppd_complaints.csv')"
   ]
  },
  {
   "cell_type": "code",
   "execution_count": 4,
   "metadata": {},
   "outputs": [],
   "source": [
    "complaint_date=complaints.reset_index().set_index('complaint_id')['date_received'].to_dict()"
   ]
  },
  {
   "cell_type": "code",
   "execution_count": 5,
   "metadata": {},
   "outputs": [
    {
     "data": {
      "text/html": [
       "<div>\n",
       "<style scoped>\n",
       "    .dataframe tbody tr th:only-of-type {\n",
       "        vertical-align: middle;\n",
       "    }\n",
       "\n",
       "    .dataframe tbody tr th {\n",
       "        vertical-align: top;\n",
       "    }\n",
       "\n",
       "    .dataframe thead th {\n",
       "        text-align: right;\n",
       "    }\n",
       "</style>\n",
       "<table border=\"1\" class=\"dataframe\">\n",
       "  <thead>\n",
       "    <tr style=\"text-align: right;\">\n",
       "      <th></th>\n",
       "      <th>OBJECTID</th>\n",
       "      <th>AREA</th>\n",
       "      <th>PERIMETER</th>\n",
       "      <th>DISTRICT_</th>\n",
       "      <th>DISTRICT_ID</th>\n",
       "      <th>DIST_NUM</th>\n",
       "      <th>SUM_AREA</th>\n",
       "      <th>DIST_NUMC</th>\n",
       "      <th>LOCATION</th>\n",
       "      <th>PHONE</th>\n",
       "      <th>DIV_CODE</th>\n",
       "      <th>AREA_SQMI</th>\n",
       "      <th>geometry</th>\n",
       "    </tr>\n",
       "  </thead>\n",
       "  <tbody>\n",
       "    <tr>\n",
       "      <th>0</th>\n",
       "      <td>321</td>\n",
       "      <td>None</td>\n",
       "      <td>81903.641825</td>\n",
       "      <td>1</td>\n",
       "      <td>None</td>\n",
       "      <td>1</td>\n",
       "      <td>None</td>\n",
       "      <td>01</td>\n",
       "      <td>24th St. &amp; Wolf St.</td>\n",
       "      <td>686-3010</td>\n",
       "      <td>SPD</td>\n",
       "      <td>2.163501e+08</td>\n",
       "      <td>POLYGON ((-75.19724 39.92944, -75.19693 39.929...</td>\n",
       "    </tr>\n",
       "    <tr>\n",
       "      <th>1</th>\n",
       "      <td>322</td>\n",
       "      <td>None</td>\n",
       "      <td>63587.369399</td>\n",
       "      <td>2</td>\n",
       "      <td>None</td>\n",
       "      <td>2</td>\n",
       "      <td>None</td>\n",
       "      <td>02</td>\n",
       "      <td>Harbison Ave. &amp; Levick St.</td>\n",
       "      <td>686-3020</td>\n",
       "      <td>NEPD</td>\n",
       "      <td>1.923461e+08</td>\n",
       "      <td>POLYGON ((-75.05444 40.04454, -75.05482 40.044...</td>\n",
       "    </tr>\n",
       "    <tr>\n",
       "      <th>2</th>\n",
       "      <td>323</td>\n",
       "      <td>None</td>\n",
       "      <td>55305.496227</td>\n",
       "      <td>3</td>\n",
       "      <td>None</td>\n",
       "      <td>3</td>\n",
       "      <td>None</td>\n",
       "      <td>03</td>\n",
       "      <td>11th St. &amp; Wharton St.</td>\n",
       "      <td>686-3030</td>\n",
       "      <td>SPD</td>\n",
       "      <td>1.839049e+08</td>\n",
       "      <td>POLYGON ((-75.13205 39.89932, -75.13470 39.894...</td>\n",
       "    </tr>\n",
       "    <tr>\n",
       "      <th>3</th>\n",
       "      <td>324</td>\n",
       "      <td>None</td>\n",
       "      <td>71919.797243</td>\n",
       "      <td>5</td>\n",
       "      <td>None</td>\n",
       "      <td>5</td>\n",
       "      <td>None</td>\n",
       "      <td>05</td>\n",
       "      <td>Ridge Ave. &amp; Cinnaminson St.</td>\n",
       "      <td>686-3050</td>\n",
       "      <td>NWPD</td>\n",
       "      <td>2.130442e+08</td>\n",
       "      <td>POLYGON ((-75.20430 40.03468, -75.20403 40.034...</td>\n",
       "    </tr>\n",
       "    <tr>\n",
       "      <th>4</th>\n",
       "      <td>325</td>\n",
       "      <td>None</td>\n",
       "      <td>34655.320856</td>\n",
       "      <td>6</td>\n",
       "      <td>None</td>\n",
       "      <td>6</td>\n",
       "      <td>None</td>\n",
       "      <td>06</td>\n",
       "      <td>11th St. &amp; Winter St.</td>\n",
       "      <td>686-3060</td>\n",
       "      <td>CPD</td>\n",
       "      <td>6.927927e+07</td>\n",
       "      <td>POLYGON ((-75.13437 39.95294, -75.13524 39.950...</td>\n",
       "    </tr>\n",
       "  </tbody>\n",
       "</table>\n",
       "</div>"
      ],
      "text/plain": [
       "   OBJECTID  AREA     PERIMETER  DISTRICT_ DISTRICT_ID  DIST_NUM SUM_AREA  \\\n",
       "0       321  None  81903.641825          1        None         1     None   \n",
       "1       322  None  63587.369399          2        None         2     None   \n",
       "2       323  None  55305.496227          3        None         3     None   \n",
       "3       324  None  71919.797243          5        None         5     None   \n",
       "4       325  None  34655.320856          6        None         6     None   \n",
       "\n",
       "  DIST_NUMC                      LOCATION     PHONE DIV_CODE     AREA_SQMI  \\\n",
       "0        01           24th St. & Wolf St.  686-3010      SPD  2.163501e+08   \n",
       "1        02    Harbison Ave. & Levick St.  686-3020     NEPD  1.923461e+08   \n",
       "2        03        11th St. & Wharton St.  686-3030      SPD  1.839049e+08   \n",
       "3        05  Ridge Ave. & Cinnaminson St.  686-3050     NWPD  2.130442e+08   \n",
       "4        06         11th St. & Winter St.  686-3060      CPD  6.927927e+07   \n",
       "\n",
       "                                            geometry  \n",
       "0  POLYGON ((-75.19724 39.92944, -75.19693 39.929...  \n",
       "1  POLYGON ((-75.05444 40.04454, -75.05482 40.044...  \n",
       "2  POLYGON ((-75.13205 39.89932, -75.13470 39.894...  \n",
       "3  POLYGON ((-75.20430 40.03468, -75.20403 40.034...  \n",
       "4  POLYGON ((-75.13437 39.95294, -75.13524 39.950...  "
      ]
     },
     "execution_count": 5,
     "metadata": {},
     "output_type": "execute_result"
    }
   ],
   "source": [
    "po_districts=geopandas.read_file(\"Boundaries_District.geojson\")\n",
    "po_districts.head(5)"
   ]
  },
  {
   "cell_type": "code",
   "execution_count": 6,
   "metadata": {},
   "outputs": [],
   "source": [
    "disciplines=pd.read_csv('ppd_complaint_disciplines.csv')"
   ]
  },
  {
   "cell_type": "code",
   "execution_count": 7,
   "metadata": {},
   "outputs": [],
   "source": [
    "disciplines['date_recieved']=disciplines.complaint_id.map(complaint_date)"
   ]
  },
  {
   "cell_type": "code",
   "execution_count": 8,
   "metadata": {},
   "outputs": [],
   "source": [
    "disciplines['district_num']=pd.to_numeric(disciplines.po_assigned_unit.dropna().apply(lambda x: x.split(' ')[0][:2]),errors='coerce')"
   ]
  },
  {
   "cell_type": "code",
   "execution_count": null,
   "metadata": {},
   "outputs": [],
   "source": [
    "inc=geopandas.read_file(\"../incidents_part1_part2.geojson\")"
   ]
  },
  {
   "cell_type": "code",
   "execution_count": null,
   "metadata": {},
   "outputs": [],
   "source": [
    "complaintsbyofficer=disciplines.groupby('officer_id').complaint_id.count().sort_values(ascending=False)"
   ]
  },
  {
   "cell_type": "code",
   "execution_count": null,
   "metadata": {},
   "outputs": [],
   "source": [
    "complaintsbyofficer.describe().to_frame().style.format(\"{:.2f}\")"
   ]
  },
  {
   "cell_type": "code",
   "execution_count": null,
   "metadata": {},
   "outputs": [],
   "source": [
    "fig, ax = plt.subplots(1, 1,figsize=(20,10))\n",
    "complaintsbyofficer.hist(figsize=(20,10));\n",
    "ax.tick_params(labelsize=24)"
   ]
  },
  {
   "cell_type": "code",
   "execution_count": null,
   "metadata": {},
   "outputs": [],
   "source": [
    "unit_officer=disciplines.groupby(['po_assigned_unit','officer_id']).complaint_id.count().reset_index()"
   ]
  },
  {
   "cell_type": "code",
   "execution_count": null,
   "metadata": {},
   "outputs": [],
   "source": [
    "disciplines[disciplines['officer_id']==29180642].head(10)"
   ]
  },
  {
   "cell_type": "code",
   "execution_count": null,
   "metadata": {},
   "outputs": [],
   "source": [
    "unit_officer=disciplines.groupby(['district_num','officer_id']).complaint_id.count().reset_index()"
   ]
  },
  {
   "cell_type": "code",
   "execution_count": null,
   "metadata": {},
   "outputs": [],
   "source": [
    "display(HTML('<h1>TOP 10 OFFICERS BY NUMBER OF COMPLAINTS</h1>'))\n",
    "unit_officer[unit_officer['district_num'].isin(po_districts.DISTRICT_.unique())].sort_values('complaint_id',ascending=False).head(10).style.hide_index()"
   ]
  },
  {
   "cell_type": "code",
   "execution_count": null,
   "metadata": {},
   "outputs": [],
   "source": [
    "fig, ax = plt.subplots(1, 1,figsize=(35,10))\n",
    "g=sns.boxplot(x=\"district_num\", y=\"complaint_id\",data=unit_officer[unit_officer['district_num'].isin(po_districts.DISTRICT_.unique())], ax=ax)\n",
    "plt.xticks(rotation=90);\n",
    "ax.tick_params(labelsize=24);\n",
    "fig.suptitle('District Complaints/ Officer', fontsize=32);\n",
    "ax.set_xlabel('District Number', fontsize=24);\n",
    "ax.set_ylabel('Number of Complaints', fontsize=24);"
   ]
  },
  {
   "cell_type": "code",
   "execution_count": null,
   "metadata": {},
   "outputs": [],
   "source": [
    "outlier_officers=[]\n",
    "for c, g in unit_officer.reset_index().groupby('district_num'):\n",
    "    stats=boxplot_stats(g.complaint_id)\n",
    "    outliers = [y for stat in boxplot_stats(g['complaint_id']) for y in stat['fliers']]\n",
    "    outlier_officers=np.append(outlier_officers,list(g[g['complaint_id'].isin(outliers)].officer_id.values))"
   ]
  },
  {
   "cell_type": "code",
   "execution_count": null,
   "metadata": {},
   "outputs": [],
   "source": [
    "outlier_officers"
   ]
  },
  {
   "cell_type": "code",
   "execution_count": null,
   "metadata": {},
   "outputs": [],
   "source": [
    "outlier_race=disciplines[disciplines['officer_id'].isin(outlier_officers)].groupby('officer_id')['po_race'].unique()"
   ]
  },
  {
   "cell_type": "code",
   "execution_count": null,
   "metadata": {},
   "outputs": [],
   "source": [
    "fig, ax = plt.subplots(1, 1,figsize=(20,10))\n",
    "outlier_race.apply(lambda x:x[0]).value_counts().plot(kind='bar', ax=ax);\n",
    "ax.tick_params(labelsize=24)"
   ]
  },
  {
   "cell_type": "code",
   "execution_count": null,
   "metadata": {},
   "outputs": [],
   "source": [
    "fig, ax = plt.subplots(1, 1,figsize=(20,10))\n",
    "disciplines.groupby('officer_id').po_race.unique().apply(lambda x:x[0]).value_counts().plot(kind='bar');\n",
    "ax.tick_params(labelsize=24)"
   ]
  },
  {
   "cell_type": "code",
   "execution_count": null,
   "metadata": {},
   "outputs": [],
   "source": [
    "colors_tc=cm.Spectral(np.linspace(0, 1,len(disciplines.investigative_findings.unique()) ) )"
   ]
  },
  {
   "cell_type": "code",
   "execution_count": null,
   "metadata": {},
   "outputs": [],
   "source": [
    "fig, ax = plt.subplots(1, 1,figsize=(10,10))\n",
    "disciplines.investigative_findings.value_counts().plot(kind='pie', ax=ax,textprops={'fontsize': 14},colors=colors_tc,wedgeprops={\"edgecolor\":\"k\",'linewidth': 1, 'antialiased': True});"
   ]
  },
  {
   "cell_type": "code",
   "execution_count": null,
   "metadata": {},
   "outputs": [],
   "source": [
    "race_results=disciplines.groupby('po_race').investigative_findings.value_counts().to_frame()\n",
    "race_results.columns=['counts']\n",
    "race_results=race_results.reset_index()\n",
    "r_f=race_results[~race_results.investigative_findings.isin(['Pending'])]"
   ]
  },
  {
   "cell_type": "code",
   "execution_count": null,
   "metadata": {},
   "outputs": [],
   "source": [
    "\n",
    "cdict={}\n",
    "for i,c in zip(disciplines.investigative_findings.unique(), colors_tc):\n",
    "    cdict[i]=c\n",
    "\n",
    "def plt_pie(x,y,**kwargs):\n",
    "    cd=[cdict[l] for l in x] \n",
    "    plt.pie(y,labels=x, colors=cd,wedgeprops={\"edgecolor\":\"k\",'linewidth': 1, 'antialiased': True})"
   ]
  },
  {
   "cell_type": "code",
   "execution_count": null,
   "metadata": {},
   "outputs": [],
   "source": [
    "g=sns.FacetGrid(r_f,col=\"po_race\", col_wrap=2, sharey=False,height=6)\n",
    "g=(g.map(plt_pie, \"investigative_findings\", \"counts\",cdict=cdict))"
   ]
  },
  {
   "cell_type": "code",
   "execution_count": null,
   "metadata": {},
   "outputs": [],
   "source": [
    "pd.pivot_table(r_f,values='counts',index=['po_race'],columns=['investigative_findings']).apply(lambda x: x / x.sum(), axis=1).fillna(0).style.format(\"{:.2%}\")"
   ]
  },
  {
   "cell_type": "code",
   "execution_count": null,
   "metadata": {},
   "outputs": [],
   "source": [
    "ps=geopandas.read_file(\"Police_Stations.geojson\")"
   ]
  },
  {
   "cell_type": "code",
   "execution_count": null,
   "metadata": {},
   "outputs": [],
   "source": [
    "comp_dict=disciplines.groupby('district_num').complaint_id.count().to_dict()"
   ]
  },
  {
   "cell_type": "code",
   "execution_count": null,
   "metadata": {},
   "outputs": [],
   "source": [
    "po_districts['comp_count']=pd.to_numeric(po_districts.DISTRICT_).apply(lambda x: comp_dict[x])\n",
    "\n",
    "fig, ax = plt.subplots(1, 1,figsize=(30,30))\n",
    "po_districts.to_crs(epsg=3857).plot(column='comp_count',cmap='YlOrRd',legend=True, ax=ax, alpha=0.5)\n",
    "po_districts.to_crs(epsg=3857).boundary.plot(ax=ax, color='k')\n",
    "ctx.add_basemap(ax, source=ctx.providers.Stamen.TonerLite)\n",
    "\n",
    "for l,name in zip(po_districts.to_crs(epsg=3857).centroid,po_districts.DISTRICT_):\n",
    "    plt.text(l.x,l.y,name,ha='center', va='center',fontsize='32')\n",
    "    \n",
    "ax.set_axis_off()\n",
    "ax.set_title('POLICE DISTRICT, COMPLAINT COUNTS',fontsize='56');"
   ]
  },
  {
   "cell_type": "code",
   "execution_count": null,
   "metadata": {},
   "outputs": [],
   "source": [
    "outliers_dict=disciplines[disciplines['officer_id'].isin(outlier_officers)].groupby('district_num').complaint_id.count().to_dict()"
   ]
  },
  {
   "cell_type": "code",
   "execution_count": null,
   "metadata": {},
   "outputs": [],
   "source": [
    "po_districts['outlier_count']=pd.to_numeric(po_districts.DISTRICT_).apply(lambda x: outliers_dict[x])\n",
    "\n",
    "fig, ax = plt.subplots(1, 1,figsize=(30,30))\n",
    "po_districts.to_crs(epsg=3857).plot(column='outlier_count',cmap='YlOrRd',legend=True, ax=ax, alpha=0.5)\n",
    "po_districts.to_crs(epsg=3857).boundary.plot(ax=ax, color='k')\n",
    "ctx.add_basemap(ax, source=ctx.providers.Stamen.TonerLite)\n",
    "for l,name in zip(po_districts.to_crs(epsg=3857).centroid,po_districts.DISTRICT_):\n",
    "    plt.text(l.x,l.y,name,ha='center', va='center',fontsize='32')\n",
    "ax.set_axis_off()\n",
    "ax.set_title('POLICE DISTRICT, COMPLAINTS BY OUTLIER OFFICER',fontsize='56');"
   ]
  },
  {
   "cell_type": "code",
   "execution_count": null,
   "metadata": {},
   "outputs": [],
   "source": [
    "inc_in_z=geopandas.sjoin(inc,po_districts,how='inner',op='within')"
   ]
  },
  {
   "cell_type": "code",
   "execution_count": null,
   "metadata": {},
   "outputs": [],
   "source": [
    "inc_in_d=inc_in_z.groupby('DISTRICT_').objectid.count()"
   ]
  },
  {
   "cell_type": "code",
   "execution_count": null,
   "metadata": {},
   "outputs": [],
   "source": [
    "inc_in_d_dict=inc_in_d.to_dict()"
   ]
  },
  {
   "cell_type": "code",
   "execution_count": null,
   "metadata": {},
   "outputs": [],
   "source": [
    "po_districts['incidents']=po_districts['DISTRICT_'].apply(lambda x: inc_in_d_dict[x])"
   ]
  },
  {
   "cell_type": "code",
   "execution_count": null,
   "metadata": {},
   "outputs": [],
   "source": [
    "po_districts['ratio']=po_districts.apply(lambda x:(x.comp_count*1000)/x.incidents,axis=1)"
   ]
  },
  {
   "cell_type": "code",
   "execution_count": null,
   "metadata": {},
   "outputs": [],
   "source": [
    "ratio_dict=po_districts[['DISTRICT_','ratio']].set_index('DISTRICT_').to_dict()['ratio']"
   ]
  },
  {
   "cell_type": "code",
   "execution_count": null,
   "metadata": {},
   "outputs": [],
   "source": [
    "inc_in_d=inc_in_d.loc[lambda x: x.index != 77]"
   ]
  },
  {
   "cell_type": "code",
   "execution_count": null,
   "metadata": {},
   "outputs": [],
   "source": [
    "xmax=inc_in_d.max()\n",
    "xmin=inc_in_d.min()\n",
    "\n",
    "def scale_into_range(x,a,b,xmin,xmax):\n",
    "    res=(((b-a)*(x-xmin))/(xmax-xmin))+a\n",
    "    return res\n",
    "\n",
    "inc_in_d_scale=inc_in_d.apply(lambda x: scale_into_range(x,1000,20000,xmin,xmax))\n",
    "inc_in_d_scale_dict=inc_in_d_scale.to_dict()\n",
    "\n"
   ]
  },
  {
   "cell_type": "code",
   "execution_count": null,
   "metadata": {},
   "outputs": [],
   "source": [
    "po_districts_n=po_districts[po_districts['DISTRICT_']!=77].copy()\n",
    "po_districts_n['Inc_Sc']=po_districts_n.DISTRICT_.map(inc_in_d_scale)"
   ]
  },
  {
   "cell_type": "code",
   "execution_count": null,
   "metadata": {
    "scrolled": false
   },
   "outputs": [],
   "source": [
    "po_districts_n['comp_count']=pd.to_numeric(po_districts_n.DISTRICT_).apply(lambda x: comp_dict[x])\n",
    "\n",
    "fig, ax = plt.subplots(1, 1,figsize=(30,30))\n",
    "po_districts_n.to_crs(epsg=3857).plot(column='comp_count',cmap='Blues', ax=ax, alpha=0.5)\n",
    "\n",
    "po_districts_n.to_crs(epsg=3857).boundary.plot(ax=ax, color='k')\n",
    "ctx.add_basemap(ax, source=ctx.providers.Stamen.TonerLite)\n",
    "plt.scatter(list(po_districts_n.to_crs(epsg=3857).centroid.x),list(po_districts_n.to_crs(epsg=3857).centroid.y),alpha=0.5,s=list(po_districts_n.Inc_Sc),c=list(po_districts_n.ratio),cmap='YlOrRd',edgecolor='k')  \n",
    "for l,name in zip(po_districts_n.to_crs(epsg=3857).centroid,po_districts_n.DISTRICT_):\n",
    "    mlab='District: '+str(name)+'\\nIncidents: '+'{:,}'.format(inc_in_d_dict[name])+'\\nComplaints: '+str(comp_dict[name])\n",
    "    plt.text(l.x,l.y,mlab,ha='center', va='center',fontsize='12')\n",
    "\n",
    "axins = inset_axes(ax,\n",
    "                   width=\"5%\",  # width = 5% of parent_bbox width\n",
    "                   height=\"100%\",  # height : 50%\n",
    "                   loc='lower left',\n",
    "                   bbox_to_anchor=(-0.1, 0., 1, 1),\n",
    "                   bbox_transform=ax.transAxes,\n",
    "                   borderpad=0,\n",
    "                   )\n",
    "\n",
    "sm = plt.cm.ScalarMappable(cmap='Blues', norm=plt.Normalize(vmin=po_districts_n.comp_count.min(), vmax=po_districts_n.comp_count.max()))\n",
    "cbr = fig.colorbar(sm, cax=axins,alpha=0.5)\n",
    "cbr.ax.tick_params(labelsize=18) \n",
    "cbr.set_label(label='Complaint Counts',fontsize=18)\n",
    "\n",
    "axins = inset_axes(ax,\n",
    "                   width=\"5%\",  # width = 5% of parent_bbox width\n",
    "                   height=\"100%\",  # height : 50%\n",
    "                   loc='lower left',\n",
    "                   bbox_to_anchor=(1.1, 0., 1, 1),\n",
    "                   bbox_transform=ax.transAxes,\n",
    "                   borderpad=0,\n",
    "                   )\n",
    "\n",
    "sm2 = plt.cm.ScalarMappable(cmap='YlOrRd', norm=plt.Normalize(vmin=po_districts_n.ratio.min(), vmax=po_districts_n.ratio.max()))\n",
    "cbr2 = fig.colorbar(sm2, cax=axins,alpha=0.5)\n",
    "cbr2.ax.tick_params(labelsize=18) \n",
    "cbr2.set_label(label='Complaints per 1000 Incidents',fontsize=18)\n",
    "\n",
    "plt.text(0.8, 0.1, 'Marker Size related to Number of Incidents\\n District 77 (Airport) not included',fontsize=26, horizontalalignment='center',verticalalignment='center', transform=ax.transAxes,bbox={'ec':'k','fc':'w'})\n",
    "ax.set_axis_off()\n",
    "ax.set_title('POLICE DISTRICT, RATIO OF COMPLAINTS PER 1000 INCIDENTS',fontsize='56')"
   ]
  },
  {
   "cell_type": "code",
   "execution_count": null,
   "metadata": {
    "scrolled": false
   },
   "outputs": [],
   "source": [
    "dn_results=disciplines.groupby('district_num').investigative_findings.value_counts().to_frame()\n",
    "dn_results.columns=['counts']\n",
    "dn_results=dn_results.reset_index()\n",
    "dn_f=dn_results[~dn_results.investigative_findings.isin(['Pending'])]"
   ]
  },
  {
   "cell_type": "code",
   "execution_count": null,
   "metadata": {},
   "outputs": [],
   "source": [
    "display(HTML('<h1>INVESTIGATION RESULTS PER DISTRICT</h1>'))\n",
    "dn_perc=pd.pivot_table(dn_f,values='counts',index=['district_num'],columns=['investigative_findings']).apply(lambda x: x / x.sum(), axis=1)\n",
    "dn_perc.loc[po_districts.DISTRICT_.unique()].sort_values('Sustained Finding',ascending=False).style.format(\"{:.2%}\")"
   ]
  },
  {
   "cell_type": "code",
   "execution_count": null,
   "metadata": {},
   "outputs": [],
   "source": [
    "display(HTML('<h1>SUSTAINED FINDINGS STATISTICS</h1>'))\n",
    "dn_perc.loc[po_districts.DISTRICT_.unique()]['Sustained Finding'].describe().to_frame().loc[lambda x:x.index!='count'].style.format(\"{:.2%}\")"
   ]
  },
  {
   "cell_type": "code",
   "execution_count": null,
   "metadata": {
    "scrolled": false
   },
   "outputs": [],
   "source": [
    "fig, ax = plt.subplots(1, 1,figsize=(20,10))\n",
    "dn_perc.loc[po_districts.DISTRICT_.unique()].plot(kind='bar',figsize=(20,10),stacked=True,ax=ax);\n",
    "ax.set_title('COMPLAINT INVESTIGATION RESULTS PER DISTRICT',fontsize='32');\n",
    "ax.tick_params(labelsize=18)"
   ]
  },
  {
   "cell_type": "code",
   "execution_count": null,
   "metadata": {},
   "outputs": [],
   "source": [
    "c_blocks=geopandas.read_file(\"../Census_Blocks_2010.geojson\")\n",
    "\n",
    "cblocks_in_pd=geopandas.sjoin(c_blocks,po_districts,how='inner',op='intersects')"
   ]
  },
  {
   "cell_type": "code",
   "execution_count": null,
   "metadata": {},
   "outputs": [],
   "source": [
    "state_codes=requests.get('https://api.census.gov/data/2010/dec/sf1?get=NAME&for=state:*')"
   ]
  },
  {
   "cell_type": "code",
   "execution_count": null,
   "metadata": {},
   "outputs": [],
   "source": [
    "state_dict={}\n",
    "for x in state_codes.json()[1:]:\n",
    "    state_dict[x[0]]=x[1]\n",
    "state_code=state_dict['Pennsylvania']"
   ]
  },
  {
   "cell_type": "code",
   "execution_count": null,
   "metadata": {},
   "outputs": [],
   "source": [
    "county_codes=requests.get('https://api.census.gov/data/2010/dec/sf1?get=NAME&for=county:*&in=state:'+state_code)"
   ]
  },
  {
   "cell_type": "code",
   "execution_count": null,
   "metadata": {},
   "outputs": [],
   "source": [
    "county_dict={}\n",
    "for x in county_codes.json()[1:]:\n",
    "    county_dict[x[0]]=x[2]\n",
    "county_code=county_dict['Philadelphia County, Pennsylvania']"
   ]
  },
  {
   "cell_type": "code",
   "execution_count": null,
   "metadata": {},
   "outputs": [],
   "source": [
    "census_pop=requests.get('https://api.census.gov/data/2018/acs/acs5?get=B00001_001E&for=block%20group:*&in=state:'+state_code+'%20'+'county:'+county_code)"
   ]
  },
  {
   "cell_type": "code",
   "execution_count": null,
   "metadata": {},
   "outputs": [],
   "source": [
    "c_bgroup=geopandas.read_file(\"Census_Block_Groups_2010.geojson\")\n",
    "c_bgroup['bkey']=c_bgroup.TRACTCE10+['|']+c_bgroup.BLKGRPCE10\n",
    "cbgroups_in_pd=geopandas.sjoin(c_bgroup,po_districts,how='inner',op='intersects')"
   ]
  },
  {
   "cell_type": "code",
   "execution_count": null,
   "metadata": {},
   "outputs": [],
   "source": [
    "census_pop_df=pd.DataFrame(census_pop.json()[1:],columns=census_pop.json()[0])"
   ]
  },
  {
   "cell_type": "code",
   "execution_count": null,
   "metadata": {},
   "outputs": [],
   "source": [
    "census_race=requests.get('https://api.census.gov/data/2018/acs/acs5?get=group(B02001)&for=block%20group:*&in=state:'+state_code+'%20'+'county:'+county_code)"
   ]
  },
  {
   "cell_type": "code",
   "execution_count": null,
   "metadata": {},
   "outputs": [],
   "source": [
    "census_race_df=pd.DataFrame(census_race.json()[1:],columns=census_race.json()[0])"
   ]
  },
  {
   "cell_type": "code",
   "execution_count": null,
   "metadata": {},
   "outputs": [],
   "source": [
    "census_vars=requests.get('https://api.census.gov/data/2018/acs/acs5/variables.html')"
   ]
  },
  {
   "cell_type": "code",
   "execution_count": null,
   "metadata": {},
   "outputs": [],
   "source": [
    "soup = BeautifulSoup(census_vars.content,'html.parser')"
   ]
  },
  {
   "cell_type": "code",
   "execution_count": null,
   "metadata": {},
   "outputs": [],
   "source": [
    "data=[]\n",
    "table = soup.find('table')\n",
    "table_body = table.find('tbody')\n",
    "\n",
    "rows = table_body.find_all('tr')\n",
    "for row in rows:\n",
    "    cols = row.find_all('td')\n",
    "    cols = [ele.text.strip() for ele in cols]\n",
    "    data.append([ele for ele in cols if ele]) # Get rid of empty values"
   ]
  },
  {
   "cell_type": "code",
   "execution_count": null,
   "metadata": {},
   "outputs": [],
   "source": [
    "var_dict=pd.DataFrame(data)[[0,1]].set_index(0).to_dict()[1]"
   ]
  },
  {
   "cell_type": "code",
   "execution_count": null,
   "metadata": {},
   "outputs": [],
   "source": [
    "new_cols=[]\n",
    "for x in census_race_df.columns.values:\n",
    "    try: \n",
    "        val=var_dict[x]\n",
    "    except:\n",
    "        val=x\n",
    "    new_cols.append(val)"
   ]
  },
  {
   "cell_type": "code",
   "execution_count": null,
   "metadata": {},
   "outputs": [],
   "source": [
    "census_race_df.columns=new_cols"
   ]
  },
  {
   "cell_type": "code",
   "execution_count": null,
   "metadata": {},
   "outputs": [],
   "source": [
    "race_cols_est=['Geography',\n",
    "'Estimate!!Total',\n",
    "'Estimate!!Total!!White alone',\n",
    "'Estimate!!Total!!Black or African American alone',\n",
    "'Estimate!!Total!!American Indian and Alaska Native alone',\n",
    "'Estimate!!Total!!Asian alone',\n",
    "'Estimate!!Total!!Native Hawaiian and Other Pacific Islander alone',\n",
    "'Estimate!!Total!!Some other race alone',\n",
    "'Estimate!!Total!!Two or more races',\n",
    "'Estimate!!Total!!Two or more races!!Two races including Some other race',\n",
    "'Estimate!!Total!!Two or more races!!Two races excluding Some other race, and three or more races',\n",
    "'state',\n",
    "'county',\n",
    "'tract',\n",
    "'block group']"
   ]
  },
  {
   "cell_type": "code",
   "execution_count": null,
   "metadata": {},
   "outputs": [],
   "source": [
    "census_race_df=census_race_df[race_cols_est].copy()"
   ]
  },
  {
   "cell_type": "code",
   "execution_count": null,
   "metadata": {},
   "outputs": [],
   "source": [
    "new_cols=[]\n",
    "for x in race_cols_est:\n",
    "    if 'Estimate' in x:\n",
    "        if len(x.split('!!'))<=2:\n",
    "            val=x.split('!!')[1]\n",
    "        else:\n",
    "            val='-'.join(x.split('!!')[2:])\n",
    "    else:\n",
    "        val=x\n",
    "    new_cols.append(val)"
   ]
  },
  {
   "cell_type": "code",
   "execution_count": null,
   "metadata": {},
   "outputs": [],
   "source": [
    "census_race_df.columns=new_cols"
   ]
  },
  {
   "cell_type": "code",
   "execution_count": null,
   "metadata": {},
   "outputs": [],
   "source": [
    "census_race_df['bkey']=census_race_df.apply(lambda x: x['tract']+'|'+x['block group'],axis=1)"
   ]
  },
  {
   "cell_type": "code",
   "execution_count": null,
   "metadata": {},
   "outputs": [],
   "source": [
    "census_race_df.set_index('bkey',inplace=True)"
   ]
  },
  {
   "cell_type": "code",
   "execution_count": null,
   "metadata": {},
   "outputs": [],
   "source": [
    "census_race_df.drop(['Geography','Total','state','county','tract','block group'], axis=1);"
   ]
  },
  {
   "cell_type": "code",
   "execution_count": null,
   "metadata": {},
   "outputs": [],
   "source": [
    "cb_div=cbgroups_in_pd.join(census_race_df.drop(['Geography','Total','state','county','tract','block group'], axis=1),on='bkey',how='left')"
   ]
  },
  {
   "cell_type": "code",
   "execution_count": null,
   "metadata": {},
   "outputs": [],
   "source": [
    "race_col=['White alone',\n",
    "'Black or African American alone',\n",
    "'American Indian and Alaska Native alone', 'Asian alone',\n",
    "'Native Hawaiian and Other Pacific Islander alone',\n",
    "'Some other race alone', 'Two or more races', 'Two or more races-Two races including Some other race',\n",
    "'Two or more races-Two races excluding Some other race, and three or more races']"
   ]
  },
  {
   "cell_type": "code",
   "execution_count": null,
   "metadata": {},
   "outputs": [],
   "source": [
    "for c in race_col:\n",
    "    cb_div[c]=cb_div[c].astype('float');"
   ]
  },
  {
   "cell_type": "code",
   "execution_count": null,
   "metadata": {},
   "outputs": [],
   "source": [
    "display(HTML('<h1>DISTRIC RACE PERCENTAGE</h1>'))\n",
    "district_race_perc=cb_div[['DISTRICT_']+race_col].groupby('DISTRICT_').sum().apply(lambda x: x / x.sum(), axis=1).dropna()\n",
    "district_race_perc.style.format(\"{:.2%}\")"
   ]
  },
  {
   "cell_type": "code",
   "execution_count": null,
   "metadata": {},
   "outputs": [],
   "source": [
    "cats=['White alone','Black or African American alone','Asian alone']\n",
    "district_race_perc['Other']=district_race_perc.drop(cats,axis=1).sum(axis=1)"
   ]
  },
  {
   "cell_type": "code",
   "execution_count": null,
   "metadata": {},
   "outputs": [],
   "source": [
    "white_dict=district_race_perc['White alone'].to_dict()\n",
    "black_dict=district_race_perc['Black or African American alone'].to_dict()\n",
    "asian_dict=district_race_perc['Asian alone'].to_dict()\n",
    "other_dict=district_race_perc['Other'].to_dict()"
   ]
  },
  {
   "cell_type": "code",
   "execution_count": null,
   "metadata": {},
   "outputs": [],
   "source": [
    "po_districts_n['perc_white']=pd.to_numeric(po_districts_n.DISTRICT_).map(white_dict)\n",
    "po_districts_n['perc_black']=pd.to_numeric(po_districts_n.DISTRICT_).map(black_dict)\n",
    "po_districts_n['perc_asian']=pd.to_numeric(po_districts_n.DISTRICT_).map(asian_dict)\n",
    "po_districts_n['perc_other']=pd.to_numeric(po_districts_n.DISTRICT_).map(other_dict)\n",
    "\n",
    "fig, ax = plt.subplots(1, 1,figsize=(30,30))\n",
    "po_districts_n.to_crs(epsg=3857).plot(column='perc_black',cmap='Greys', ax=ax, alpha=0.8)\n",
    "\n",
    "po_districts_n.to_crs(epsg=3857).boundary.plot(ax=ax, color='k')\n",
    "ctx.add_basemap(ax, source=ctx.providers.Stamen.TonerLite)\n",
    "plt.scatter(list(po_districts_n.to_crs(epsg=3857).centroid.x),list(po_districts_n.to_crs(epsg=3857).centroid.y),alpha=0.5,s=list(po_districts_n.Inc_Sc),c=list(po_districts_n.ratio),cmap='YlOrRd',edgecolor='k')  \n",
    "for l,name in zip(po_districts_n.to_crs(epsg=3857).centroid,po_districts_n.DISTRICT_):\n",
    "    mlab='District: '+str(name)+'\\nIncidents: '+'{:,}'.format(inc_in_d_dict[name])+'\\nComplaints: '+str(comp_dict[name])\n",
    "    plt.text(l.x,l.y,mlab,ha='center', va='center',fontsize='12',bbox={'ec':'k','fc':'w'})\n",
    "\n",
    "axins = inset_axes(ax,\n",
    "                   width=\"5%\",  # width = 5% of parent_bbox width\n",
    "                   height=\"100%\",  # height : 50%\n",
    "                   loc='lower left',\n",
    "                   bbox_to_anchor=(-0.1, 0., 1, 1),\n",
    "                   bbox_transform=ax.transAxes,\n",
    "                   borderpad=0,\n",
    "                   )\n",
    "\n",
    "sm = plt.cm.ScalarMappable(cmap='Greys', norm=plt.Normalize(vmin=0.0, vmax=1))\n",
    "cbr = fig.colorbar(sm, cax=axins,alpha=0.5)\n",
    "cbr.ax.tick_params(labelsize=18) \n",
    "cbr.set_label(label='Percentage of population identifying as \"Black alone\"',fontsize=18)\n",
    "\n",
    "axins = inset_axes(ax,\n",
    "                   width=\"5%\",  # width = 5% of parent_bbox width\n",
    "                   height=\"100%\",  # height : 50%\n",
    "                   loc='lower left',\n",
    "                   bbox_to_anchor=(1.01, 0., 1, 1),\n",
    "                   bbox_transform=ax.transAxes,\n",
    "                   borderpad=0,\n",
    "                   )\n",
    "\n",
    "sm2 = plt.cm.ScalarMappable(cmap='YlOrRd', norm=plt.Normalize(vmin=po_districts_n.ratio.min(), vmax=po_districts_n.ratio.max()))\n",
    "cbr2 = fig.colorbar(sm2, cax=axins,alpha=0.8)\n",
    "cbr2.ax.tick_params(labelsize=18) \n",
    "cbr2.set_label(label='Complaints per 1000 Incidents',fontsize=18)\n",
    "\n",
    "plt.text(0.8, 0.1, 'Marker Size related to Number of Incidents\\n District 77 (Airport) not included',fontsize=26, horizontalalignment='center',verticalalignment='center', transform=ax.transAxes,bbox={'ec':'k','fc':'w'})\n",
    "ax.set_axis_off()\n",
    "ax.set_title('POLICE DISTRICT, RATIO OF COMPLAINTS PER 1000 INCIDENTS \\n PERCENTAGE OF POPULATION IDENTIFYING AS BLACK',fontsize='32')\n",
    "plt.savefig('PHL_MAP')"
   ]
  },
  {
   "cell_type": "code",
   "execution_count": null,
   "metadata": {},
   "outputs": [],
   "source": [
    "format_dict = {'incidents':'{0:,.0f}', 'ratio': '{:.2f}', 'perc_other': '{:.2%}', 'perc_white': '{:.2%}','perc_black': '{:.2%}','perc_asian': '{:.2%}'}"
   ]
  },
  {
   "cell_type": "code",
   "execution_count": null,
   "metadata": {},
   "outputs": [],
   "source": [
    "display(HTML('<h1>DISTRIC RACE PERCENTAGE, RATIO OF INCIDENTS </h1>'))\n",
    "\n",
    "po_districts_n[['DISTRICT_','perc_white','perc_black','perc_asian','perc_other','ratio','incidents','comp_count']].set_index('DISTRICT_').sort_values('ratio',ascending=False).style.format(format_dict).highlight_max(subset=['perc_white','perc_black','perc_asian','perc_other'],axis=1).background_gradient(cmap='Reds',subset=['ratio'])"
   ]
  },
  {
   "cell_type": "code",
   "execution_count": null,
   "metadata": {},
   "outputs": [],
   "source": [
    "po_districts_n.columns"
   ]
  },
  {
   "cell_type": "code",
   "execution_count": null,
   "metadata": {},
   "outputs": [],
   "source": [
    "tbl_dict={'DISTRICT_':'District',\n",
    "          'perc_white':'Percentage White',\n",
    "          'perc_black':'Percentage Black',\n",
    "          'perc_asian':'Percentage Asian',\n",
    "          'perc_other':'Percentage Other',\n",
    "          'ratio':'Ratio Incidents/Complaints',\n",
    "         'incidents':'Outlier '}"
   ]
  }
 ],
 "metadata": {
  "kernelspec": {
   "display_name": "GeoSP",
   "language": "python",
   "name": "geosp"
  },
  "language_info": {
   "codemirror_mode": {
    "name": "ipython",
    "version": 3
   },
   "file_extension": ".py",
   "mimetype": "text/x-python",
   "name": "python",
   "nbconvert_exporter": "python",
   "pygments_lexer": "ipython3",
   "version": "3.7.7"
  }
 },
 "nbformat": 4,
 "nbformat_minor": 4
}
